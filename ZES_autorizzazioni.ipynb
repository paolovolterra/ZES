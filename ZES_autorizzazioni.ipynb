{
 "cells": [
  {
   "cell_type": "markdown",
   "id": "fdb69114-1b8d-4a0a-a5b0-b900161dac9f",
   "metadata": {},
   "source": [
    "# [Richieste ZES Unica](https://www.agenziaentrate.gov.it/portale/documents/20143/6581861/Provvedimento_ZES_UNICA_12_12_2024.pdf)"
   ]
  },
  {
   "cell_type": "code",
   "execution_count": 1,
   "id": "d17ea704",
   "metadata": {},
   "outputs": [],
   "source": [
    "import camelot\n",
    "import pandas as pd\n",
    "import numpy as np"
   ]
  },
  {
   "cell_type": "code",
   "execution_count": 29,
   "id": "91a89685-eb5a-4e17-a262-6b5659d23a1c",
   "metadata": {},
   "outputs": [],
   "source": [
    "# pdf_path = 'D:\\\\Zotero\\\\storage\\\\2U7RY6GI\\\\au-2024-270125.pdf' # 2024\n",
    "pdf_path = 'D:\\\\Zotero\\\\storage\\\\5Z7Q4BLQ\\\\au-24012025.pdf' # 2025\n",
    "\n",
    "tables = camelot.read_pdf(pdf_path, pages=\"all\", strip_text=\"\\n\", line_scale=40) # Extract tables using Camelot\n",
    "df = pd.concat([table.df for table in tables], ignore_index=True) # Combine all extracted tables into a single DataFrame\n",
    "df = df[2:].reset_index(drop=True) # Drop the first two rows\n",
    "df.columns = [\"Numero AU\", \"Data protocollo\", \"ID pratica\", \"Tipologia di intervento\", \"Comune\", \"Provincia\"]\n",
    "df[\"Numero AU\"] = df[\"Numero AU\"].astype(int)  # Converte in intero\n",
    "df[\"Data protocollo\"] = pd.to_datetime(df[\"Data protocollo\"], format=\"%d/%m/%Y\")  # Converte in data\n",
    "\n",
    "# Funzione per dividere partendo dall'ultima parte\n",
    "def split_id_pratica(value):\n",
    "    parts = value.split(\"-\")\n",
    "    id_value = parts[-1] if len(parts) >= 1 else None\n",
    "    in_value = pd.to_datetime(parts[-2], format=\"%d%m%Y\", errors=\"coerce\") if len(parts) >= 2 else None\n",
    "    cf_value = parts[-3] if len(parts) >= 3 else None\n",
    "    return cf_value, in_value, id_value\n",
    "\n",
    "df[[\"CF\", \"IN\", \"ID\"]] = df[\"ID pratica\"].apply(split_id_pratica).apply(pd.Series) # Applicazione della funzione e creazione delle nuove colonne\n",
    "\n",
    "comuni = pd.read_csv('province.csv', sep ='\\t',na_filter = False)\n",
    "df = pd.merge(df, comuni[['SIGLA','REGIONE']], left_on='Provincia', right_on='SIGLA', how ='left').drop(columns=['SIGLA'])\n",
    "df.to_csv('D:/ZES_2025.csv',sep='|')\n"
   ]
  }
 ],
 "metadata": {
  "kernelspec": {
   "display_name": "Python 3",
   "language": "python",
   "name": "python3"
  },
  "language_info": {
   "codemirror_mode": {
    "name": "ipython",
    "version": 3
   },
   "file_extension": ".py",
   "mimetype": "text/x-python",
   "name": "python",
   "nbconvert_exporter": "python",
   "pygments_lexer": "ipython3",
   "version": "3.11.7"
  }
 },
 "nbformat": 4,
 "nbformat_minor": 5
}
